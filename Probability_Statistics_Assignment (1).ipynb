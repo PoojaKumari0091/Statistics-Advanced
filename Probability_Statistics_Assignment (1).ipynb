{
  "nbformat": 4,
  "nbformat_minor": 5,
  "metadata": {
    "colab": {
      "provenance": []
    },
    "language_info": {
      "name": "python"
    },
    "kernelspec": {
      "name": "python3",
      "display_name": "Python 3"
    }
  },
  "cells": [
    {
      "id": "cdaa69d2",
      "cell_type": "markdown",
      "source": [
        "### Probability and Statistics Assignment"
      ],
      "metadata": {
        "id": "cdaa69d2"
      }
    },
    {
      "id": "fcaf57aa",
      "cell_type": "markdown",
      "source": [
        "**Question 1:** What is a random variable in probability theory?\n",
        "- A random variable is a variable whose values depend on outcomes of a random phenomenon.\n",
        "- It maps sample space outcomes to numerical values.\n"
      ],
      "metadata": {
        "id": "fcaf57aa"
      }
    },
    {
      "id": "580d2045",
      "cell_type": "markdown",
      "source": [
        "**Question 2:** What are the types of random variables?\n",
        "- **Discrete Random Variable:** Takes countable values (example, number of heads in coin tosses).\n",
        "- **Continuous Random Variable:** Takes uncountable values in a range (example, height, temperature).\n"
      ],
      "metadata": {
        "id": "580d2045"
      }
    },
    {
      "id": "3fef13c7",
      "cell_type": "markdown",
      "source": [
        "**Question 3:** Explain the difference between discrete and continuous distributions.\n",
        "- **Discrete distribution:** Probability is defined for distinct values (example, Binomial, Poisson).\n",
        "- **Continuous distribution:** Probability is spread over an interval (example, Normal, Exponential).\n"
      ],
      "metadata": {
        "id": "3fef13c7"
      }
    },
    {
      "id": "30a18a47",
      "cell_type": "markdown",
      "source": [
        "**Question 4:** What is a binomial distribution, and how is it used in probability?\n",
        "- A Binomial Distribution represents the number of successes in a fixed number of independent trials.\n",
        "- It’s used when there are only two outcomes, success or failure.\n"
      ],
      "metadata": {
        "id": "30a18a47"
      }
    },
    {
      "id": "5e42da17",
      "cell_type": "markdown",
      "source": [
        "**Question 5:** What is the standard normal distribution, and why is it important?\n",
        "- A standard normal distribution has mean = 0 and standard deviation = 1.\n",
        "- It allows comparison of different normal distributions using z-scores.\n"
      ],
      "metadata": {
        "id": "5e42da17"
      }
    },
    {
      "id": "5849126a",
      "cell_type": "markdown",
      "source": [
        "**Question 6:** What is the Central Limit Theorem (CLT), and why is it critical in statistics?\n",
        "- The CLT states that the sampling distribution of the sample mean approaches a normal distribution as sample size increases.\n",
        "- It enables inferential statistics even for non-normal data.\n"
      ],
      "metadata": {
        "id": "5849126a"
      }
    },
    {
      "id": "16d786d6",
      "cell_type": "markdown",
      "source": [
        "**Question 7:** What is the significance of confidence intervals in statistical analysis?\n",
        "- Confidence intervals provide a range of values likely to contain the population mean.\n",
        "- They indicate reliability of sample estimates.\n"
      ],
      "metadata": {
        "id": "16d786d6"
      }
    },
    {
      "id": "a3bab0cb",
      "cell_type": "markdown",
      "source": [
        "**Question 8:** What is the concept of expected value in a probability distribution?\n",
        "- Expected value is the weighted average of all possible outcomes, considering their probabilities.\n",
        "- It represents the long-term average if the experiment were repeated many times.\n"
      ],
      "metadata": {
        "id": "a3bab0cb"
      }
    },
    {
      "id": "6d204b0d",
      "cell_type": "markdown",
      "source": [
        "**Question 9:** Generate 1000 random numbers from a normal distribution (mean=50, SD=5) and plot a histogram."
      ],
      "metadata": {
        "id": "6d204b0d"
      }
    },
    {
      "id": "78f5a59a",
      "cell_type": "code",
      "metadata": {
        "colab": {
          "base_uri": "https://localhost:8080/",
          "height": 507
        },
        "id": "78f5a59a",
        "outputId": "b5ceccfb-11f3-4b38-dd84-a924b2c9866d"
      },
      "execution_count": 2,
      "source": [
        "\n",
        "import numpy as np\n",
        "import matplotlib.pyplot as plt\n",
        "\n",
        "# Generate random numbers\n",
        "data = np.random.normal(50, 5, 1000)\n",
        "\n",
        "# Compute statistics\n",
        "mean = np.mean(data)\n",
        "std = np.std(data)\n",
        "\n",
        "print(\"Mean:\", mean)\n",
        "print(\"Standard Deviation:\", std)\n",
        "\n",
        "# Plot histogram\n",
        "plt.hist(data, bins=30, color='skyblue', edgecolor='black')\n",
        "plt.title(\"Normal Distribution (Mean=50, SD=5)\")\n",
        "plt.xlabel(\"Value\")\n",
        "plt.ylabel(\"Frequency\")\n",
        "plt.show()\n"
      ],
      "outputs": [
        {
          "output_type": "stream",
          "name": "stdout",
          "text": [
            "Mean: 49.90197782265957\n",
            "Standard Deviation: 4.958814872416472\n"
          ]
        },
        {
          "output_type": "display_data",
          "data": {
            "text/plain": [
              "<Figure size 640x480 with 1 Axes>"
            ],
            "image/png": "[encoded data removed]"
          },
          "metadata": {}
        }
      ]
    },
    {
      "id": "e0d6ac22",
      "cell_type": "markdown",
      "source": [
        "**Question 10:** Apply CLT to daily sales data and compute 95% confidence interval."
      ],
      "metadata": {
        "id": "e0d6ac22"
      }
    },
    {
      "id": "7cd34727",
      "cell_type": "code",
      "metadata": {
        "colab": {
          "base_uri": "https://localhost:8080/"
        },
        "id": "7cd34727",
        "outputId": "80f773f9-4334-4f85-e8c9-24e9d7adcf85"
      },
      "execution_count": 5,
      "source": [
        "\n",
        "import numpy as np\n",
        "import scipy.stats as stats\n",
        "\n",
        "# Sales data\n",
        "daily_sales = [220, 245, 210, 265, 230, 250, 260, 275, 240, 255,\n",
        "               235, 260, 245, 250, 225, 270, 265, 255, 250, 260]\n",
        "\n",
        "# Compute mean, SD, and confidence interval\n",
        "mean_sales = np.mean(daily_sales)\n",
        "std_sales = np.std(daily_sales, ddof=1)\n",
        "n = len(daily_sales)\n",
        "\n",
        "confidence = 0.95\n",
        "t_crit = stats.t.ppf((1 + confidence) / 2, df=n-1)\n",
        "margin = t_crit * (std_sales / np.sqrt(n))\n",
        "\n",
        "lower = mean_sales - margin\n",
        "upper = mean_sales + margin\n",
        "\n",
        "print(f\"Mean Sales: {mean_sales:.2f}\")\n",
        "print(f\"95% Confidence Interval: ({lower:.2f}, {upper:.2f})\")\n"
      ],
      "outputs": [
        {
          "output_type": "stream",
          "name": "stdout",
          "text": [
            "Mean Sales: 248.25\n",
            "95% Confidence Interval: (240.17, 256.33)\n"
          ]
        }
      ]
    }
  ]
}